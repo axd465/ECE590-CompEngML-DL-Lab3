{
 "cells": [
  {
   "cell_type": "markdown",
   "metadata": {},
   "source": [
    "## Instructions\n",
    "\n",
    "You are asked to complete the following files:\n",
    "* **pruned_layers.py**, which contains the pruning of DNNs to reduce the storage of insignificant weight parameters with 2 methods: pruning by percentage and prune by standara deviation.\n",
    "* **train_util.py**, which includes the training process of DNNs with pruned connections.\n",
    "* **quantize.py**, which applies the quantization (weight sharing) part on the DNN to reduce the storage of weight parameters.\n",
    "* **huffman_coding.py**, which applies the Huffman coding onto the weight of DNNs to further compress the weight size.\n",
    "\n",
    "You are asked to submit the following files:\n",
    "* **net_before_pruning.pt**, which is the weight parameters before applying pruning on DNN weight parameters.\n",
    "* **net_after_pruning.pt**, which is the weight parameters after applying pruning on DNN weight parameters.\n",
    "* **net_after_quantization.pt**, which is the weight parameters after applying quantization (weight sharing) on DNN weight parameters.\n",
    "* **codebook_vgg16.npy**, which is the quantization codebook of each layer after applying quantization (weight sharing).\n",
    "* **huffman_encoding.npy**, which is the encoding map of each item within the quantization codebook in the whole DNN architecture.\n",
    "* **huffman_freq.npy**, which is the frequency map of each item within the quantization codebook in the whole DNN. \n",
    "\n",
    "To ensure fair grading policy, we fix the choice of model to VGG16_half, which is a down-scaled version of VGG16 using a width multiplier of 0.5. You may check the implementation in **vgg16.py** for more details."
   ]
  },
  {
   "cell_type": "code",
   "execution_count": 1,
   "metadata": {
    "pycharm": {
     "is_executing": false
    }
   },
   "outputs": [],
   "source": [
    "from vgg16 import VGG16, VGG16_half\n",
    "from train_util import train, finetune_after_prune, test, finetune_after_quantization\n",
    "from quantize import quantize_whole_model\n",
    "from huffman_coding import huffman_coding\n",
    "from summary import summary\n",
    "import torch\n",
    "import numpy as np\n",
    "from prune import prune\n",
    "import matplotlib.pyplot as plt\n",
    "from scipy.stats import norm\n",
    "import math\n",
    "import sklearn\n",
    "\n",
    "device = 'cuda' if torch.cuda.is_available() else 'cpu'"
   ]
  },
  {
   "cell_type": "markdown",
   "metadata": {},
   "source": [
    "### Full-precision model training"
   ]
  },
  {
   "cell_type": "code",
   "execution_count": 2,
   "metadata": {
    "pycharm": {
     "is_executing": false,
     "name": "#%%\n"
    }
   },
   "outputs": [
    {
     "data": {
      "text/plain": [
       "<All keys matched successfully>"
      ]
     },
     "execution_count": 2,
     "metadata": {},
     "output_type": "execute_result"
    }
   ],
   "source": [
    "net = VGG16_half()\n",
    "net = net.to(device)\n",
    "\n",
    "# Uncomment to load pretrained weights\n",
    "net.load_state_dict(torch.load(\"net_before_pruning.pt\"))\n",
    "\n",
    "\n",
    "# # Comment if you have loaded pretrained weights\n",
    "# # Tune the hyperparameters here.\n",
    "# INITIAL_LR = 0.055#0.055#0.0575#0.055#0.00785\n",
    "# REG = 8e-4#8e-4#5e-4\n",
    "# EPOCHS = 75\n",
    "# BATCH_SIZE = 256\n",
    "# train(net, epochs=EPOCHS, batch_size=BATCH_SIZE, lr=INITIAL_LR, reg=REG)\n"
   ]
  },
  {
   "cell_type": "code",
   "execution_count": 3,
   "metadata": {},
   "outputs": [
    {
     "name": "stdout",
     "output_type": "stream",
     "text": [
      "Files already downloaded and verified\n",
      "Test Loss=0.3108, Test accuracy=0.9152\n"
     ]
    }
   ],
   "source": [
    "# Load the best weight parameters\n",
    "net.load_state_dict(torch.load(\"net_before_pruning.pt\"))\n",
    "test(net)"
   ]
  },
  {
   "cell_type": "code",
   "execution_count": null,
   "metadata": {},
   "outputs": [],
   "source": [
    "print(\"-----Summary before pruning-----\")\n",
    "summary(net)\n",
    "print(\"-------------------------------\")"
   ]
  },
  {
   "cell_type": "markdown",
   "metadata": {},
   "source": [
    "### Pruning & Finetune with pruned connections"
   ]
  },
  {
   "cell_type": "code",
   "execution_count": 5,
   "metadata": {},
   "outputs": [
    {
     "name": "stdout",
     "output_type": "stream",
     "text": [
      "Files already downloaded and verified\n",
      "Test Loss=0.5618, Test accuracy=0.8314\n"
     ]
    }
   ],
   "source": [
    "# Test accuracy before fine-tuning\n",
    "#prune(net, method='std', q=45.0, s = 0.75)\n",
    "prune(net, method='std', q=66.8753, s = 0.75) # 1.25\n",
    "test(net)"
   ]
  },
  {
   "cell_type": "code",
   "execution_count": 6,
   "metadata": {},
   "outputs": [
    {
     "name": "stdout",
     "output_type": "stream",
     "text": [
      "==> Preparing data..\n",
      "Files already downloaded and verified\n",
      "Files already downloaded and verified\n",
      "\n",
      "Epoch: 0\n",
      "[Step=16]\tLoss=0.1381\tacc=0.9573\t142.8 examples/second\n",
      "[Step=32]\tLoss=0.1323\tacc=0.9600\t5013.4 examples/second\n",
      "[Step=48]\tLoss=0.1300\tacc=0.9605\t4934.9 examples/second\n",
      "[Step=64]\tLoss=0.1255\tacc=0.9616\t5056.8 examples/second\n",
      "[Step=80]\tLoss=0.1239\tacc=0.9616\t4818.8 examples/second\n",
      "[Step=96]\tLoss=0.1184\tacc=0.9635\t5025.8 examples/second\n",
      "[Step=112]\tLoss=0.1142\tacc=0.9645\t5056.8 examples/second\n",
      "[Step=128]\tLoss=0.1124\tacc=0.9652\t5056.8 examples/second\n",
      "[Step=144]\tLoss=0.1115\tacc=0.9656\t5038.1 examples/second\n",
      "[Step=160]\tLoss=0.1115\tacc=0.9656\t5044.4 examples/second\n",
      "[Step=176]\tLoss=0.1095\tacc=0.9660\t5075.6 examples/second\n",
      "[Step=192]\tLoss=0.1089\tacc=0.9663\t5088.2 examples/second\n",
      "Test Loss=0.3227, Test acc=0.9058\n",
      "Saving...\n",
      "\n",
      "Epoch: 1\n",
      "[Step=208]\tLoss=0.0831\tacc=0.9740\t130.6 examples/second\n",
      "[Step=224]\tLoss=0.0856\tacc=0.9735\t4830.0 examples/second\n",
      "[Step=240]\tLoss=0.0886\tacc=0.9739\t4751.7 examples/second\n",
      "[Step=256]\tLoss=0.0885\tacc=0.9737\t5050.6 examples/second\n",
      "[Step=272]\tLoss=0.0900\tacc=0.9738\t5063.0 examples/second\n",
      "[Step=288]\tLoss=0.0891\tacc=0.9742\t5063.1 examples/second\n",
      "[Step=304]\tLoss=0.0883\tacc=0.9740\t4789.9 examples/second\n",
      "[Step=320]\tLoss=0.0884\tacc=0.9735\t4771.0 examples/second\n",
      "[Step=336]\tLoss=0.0893\tacc=0.9730\t4929.0 examples/second\n",
      "[Step=352]\tLoss=0.0901\tacc=0.9725\t5013.1 examples/second\n",
      "[Step=368]\tLoss=0.0895\tacc=0.9728\t4982.7 examples/second\n",
      "[Step=384]\tLoss=0.0895\tacc=0.9729\t5038.1 examples/second\n",
      "Test Loss=0.3189, Test acc=0.9089\n",
      "Saving...\n",
      "\n",
      "Epoch: 2\n",
      "[Step=400]\tLoss=0.0999\tacc=0.9712\t130.6 examples/second\n",
      "[Step=416]\tLoss=0.0864\tacc=0.9728\t4801.7 examples/second\n",
      "[Step=432]\tLoss=0.0922\tacc=0.9711\t4929.0 examples/second\n",
      "[Step=448]\tLoss=0.0886\tacc=0.9723\t5094.5 examples/second\n",
      "[Step=464]\tLoss=0.0887\tacc=0.9724\t5069.3 examples/second\n",
      "[Step=480]\tLoss=0.0876\tacc=0.9728\t4989.0 examples/second\n",
      "[Step=496]\tLoss=0.0865\tacc=0.9730\t4958.7 examples/second\n",
      "[Step=512]\tLoss=0.0872\tacc=0.9730\t5081.9 examples/second\n",
      "[Step=528]\tLoss=0.0872\tacc=0.9734\t4686.5 examples/second\n",
      "[Step=544]\tLoss=0.0872\tacc=0.9732\t5081.7 examples/second\n",
      "[Step=560]\tLoss=0.0873\tacc=0.9733\t5088.2 examples/second\n",
      "[Step=576]\tLoss=0.0864\tacc=0.9734\t4586.5 examples/second\n",
      "Test Loss=0.3185, Test acc=0.9081\n"
     ]
    }
   ],
   "source": [
    "# Uncomment to load pretrained weights\n",
    "# net.load_state_dict(torch.load(\"net_after_pruning.pt\"))\n",
    "# Comment if you have loaded pretrained weights\n",
    "#finetune_after_prune(net, epochs=50, batch_size=128, lr=0.001, reg=5e-5)\n",
    "finetune_after_prune(net, epochs=3, batch_size=256, lr=0.001, reg=5e-5)"
   ]
  },
  {
   "cell_type": "code",
   "execution_count": null,
   "metadata": {},
   "outputs": [],
   "source": [
    "# Load the best weight parameters\n",
    "net.load_state_dict(torch.load(\"net_after_pruning.pt\"))\n",
    "test(net)"
   ]
  },
  {
   "cell_type": "code",
   "execution_count": null,
   "metadata": {},
   "outputs": [],
   "source": [
    "print(\"-----Summary After pruning-----\")\n",
    "summary(net)\n",
    "print(\"-------------------------------\")"
   ]
  },
  {
   "cell_type": "markdown",
   "metadata": {},
   "source": [
    "### Quantization"
   ]
  },
  {
   "cell_type": "code",
   "execution_count": null,
   "metadata": {},
   "outputs": [],
   "source": [
    "centers = quantize_whole_model(net, bits=5)\n",
    "np.save(\"codebook_vgg16.npy\", centers)"
   ]
  },
  {
   "cell_type": "code",
   "execution_count": null,
   "metadata": {},
   "outputs": [],
   "source": [
    "test(net)"
   ]
  },
  {
   "cell_type": "code",
   "execution_count": null,
   "metadata": {},
   "outputs": [],
   "source": [
    "# Uncomment to load pretrained weights\n",
    "# net.load_state_dict(torch.load(\"net_after_quantization.pt\"))\n",
    "# Comment if you have loaded pretrained weights\n",
    "#finetune_after_prune(net, epochs=50, batch_size=128, lr=0.001, reg=5e-5)\n",
    "finetune_after_quantization(net, epochs=3, batch_size=256, lr=0.001, reg=5e-5)"
   ]
  },
  {
   "cell_type": "code",
   "execution_count": null,
   "metadata": {},
   "outputs": [],
   "source": [
    "summary(net)"
   ]
  },
  {
   "cell_type": "markdown",
   "metadata": {},
   "source": [
    "### Huffman Coding"
   ]
  },
  {
   "cell_type": "code",
   "execution_count": 4,
   "metadata": {},
   "outputs": [
    {
     "ename": "NameError",
     "evalue": "name 'centers' is not defined",
     "output_type": "error",
     "traceback": [
      "\u001b[1;31m---------------------------------------------------------------------------\u001b[0m",
      "\u001b[1;31mNameError\u001b[0m                                 Traceback (most recent call last)",
      "\u001b[1;32m<ipython-input-4-a2adc287d71b>\u001b[0m in \u001b[0;36m<module>\u001b[1;34m\u001b[0m\n\u001b[1;32m----> 1\u001b[1;33m \u001b[0mfrequency_map\u001b[0m\u001b[1;33m,\u001b[0m \u001b[0mencoding_map\u001b[0m \u001b[1;33m=\u001b[0m \u001b[0mhuffman_coding\u001b[0m\u001b[1;33m(\u001b[0m\u001b[0mnet\u001b[0m\u001b[1;33m,\u001b[0m \u001b[0mcenters\u001b[0m\u001b[1;33m)\u001b[0m\u001b[1;33m\u001b[0m\u001b[1;33m\u001b[0m\u001b[0m\n\u001b[0m\u001b[0;32m      2\u001b[0m \u001b[0mnp\u001b[0m\u001b[1;33m.\u001b[0m\u001b[0msave\u001b[0m\u001b[1;33m(\u001b[0m\u001b[1;34m\"huffman_encoding\"\u001b[0m\u001b[1;33m,\u001b[0m \u001b[0mencoding_map\u001b[0m\u001b[1;33m)\u001b[0m\u001b[1;33m\u001b[0m\u001b[1;33m\u001b[0m\u001b[0m\n\u001b[0;32m      3\u001b[0m \u001b[0mnp\u001b[0m\u001b[1;33m.\u001b[0m\u001b[0msave\u001b[0m\u001b[1;33m(\u001b[0m\u001b[1;34m\"huffman_freq\"\u001b[0m\u001b[1;33m,\u001b[0m \u001b[0mfrequency_map\u001b[0m\u001b[1;33m)\u001b[0m\u001b[1;33m\u001b[0m\u001b[1;33m\u001b[0m\u001b[0m\n",
      "\u001b[1;31mNameError\u001b[0m: name 'centers' is not defined"
     ]
    }
   ],
   "source": [
    "frequency_map, encoding_map = huffman_coding(net, centers)\n",
    "np.save(\"huffman_encoding\", encoding_map)\n",
    "np.save(\"huffman_freq\", frequency_map)"
   ]
  },
  {
   "cell_type": "markdown",
   "metadata": {},
   "source": [
    "### Weight Visualization"
   ]
  },
  {
   "cell_type": "code",
   "execution_count": null,
   "metadata": {},
   "outputs": [],
   "source": [
    "# #prune(net, method='percentage', q = 50)\n",
    "# #test(net)\n",
    "# #plt.plot(x, norm.pdf(x))\n",
    "# #plt.hist(net.classifer[0].linear.weight.data.cpu()[1], bins='auto')\n",
    "# params = list(net.parameters())\n",
    "# layer1weights = np.array(params[0].data.cpu().numpy()).flatten()\n",
    "# #print(layer1weights)\n",
    "# #print(np.array(params[0].data.cpu()))\n",
    "# #print(np.std(layer1weights))\n",
    "# print(np.percentile(abs(layer1weights), q=5.0))\n",
    "# pruned_data = layer1weights.copy()\n",
    "# pruned_data[abs(pruned_data)<=np.percentile(abs(layer1weights), q=20.0)] = None\n",
    "# plt.hist(abs(layer1weights))\n",
    "# plt.show()\n",
    "# plt.hist(pruned_data, bins =40)\n",
    "\n",
    "# # Visualize Weight Distributions\n",
    "# params = list(net.parameters())\n",
    "# print(params[:][1])\n",
    "# layer1weights = np.array(params[0].data.cpu().numpy()).flatten()[np.nonzero(np.array(params[0].data.cpu().numpy()).flatten())]\n",
    "# plt.hist(layer1weights, bins = 100)\n",
    "# plt.show()"
   ]
  },
  {
   "cell_type": "markdown",
   "metadata": {},
   "source": [
    "### Scratch Pad"
   ]
  },
  {
   "cell_type": "markdown",
   "metadata": {},
   "source": [
    "#### Testing out how k-means works"
   ]
  },
  {
   "cell_type": "code",
   "execution_count": null,
   "metadata": {},
   "outputs": [],
   "source": [
    "# A = np.array([1,2,3,4,5,6,7,8,9,10]).reshape(-1,1)\n",
    "# kmean = sklearn.cluster.KMeans(n_clusters = 4,#2**bits, \n",
    "#                            init='k-means++', \n",
    "#                            n_init=10, \n",
    "#                            max_iter=300)\n",
    "# labels = kmean.fit_predict(A)\n",
    "# print(labels)\n",
    "# print(kmean.cluster_centers_)\n",
    "# print(labels==3)\n",
    "# new = np.ones(A.shape)\n",
    "# new[labels==3] = kmean.cluster_centers_[3]\n",
    "# print(new)"
   ]
  },
  {
   "cell_type": "markdown",
   "metadata": {},
   "source": [
    "#### Testing out how I can make the huffman encodings/frequency dict"
   ]
  },
  {
   "cell_type": "code",
   "execution_count": null,
   "metadata": {},
   "outputs": [],
   "source": [
    "from collections import Counter, OrderedDict\n",
    "# A = np.array([0,1,0,2,0,3,0,1,0,4,0,5,0,1,0,2,0,3])\n",
    "# non_zero_A = map(str, A[np.nonzero(A)])\n",
    "# freq = dict(Counter(non_zero_A))\n",
    "# print(freq)\n",
    "# for key, value in freq.items():\n",
    "#     print(key, '->', value)\n",
    "# cp = freq.copy()\n",
    "# print(cp)"
   ]
  },
  {
   "cell_type": "markdown",
   "metadata": {},
   "source": [
    "#### Testing out list comprehension"
   ]
  },
  {
   "cell_type": "code",
   "execution_count": null,
   "metadata": {},
   "outputs": [],
   "source": [
    "# test_list = []\n",
    "# inter = [1,2,3]\n",
    "# another = [inter,'1', '2', '3']\n",
    "# test_list.extend(another)\n",
    "# print(test_list[0])\n",
    "# inter[0] = 0\n",
    "# print(test_list[0])"
   ]
  },
  {
   "cell_type": "markdown",
   "metadata": {},
   "source": [
    "#### Testing if Huffman Encoding is working"
   ]
  },
  {
   "cell_type": "code",
   "execution_count": null,
   "metadata": {},
   "outputs": [],
   "source": [
    "# class HuffmanNode():\n",
    "#     def __init__(self, key = '<!$>_ANTHONY_<$!>', freq = 0, right = None, left = None, leaf = False):\n",
    "#         if leaf:\n",
    "#             self.key = key\n",
    "#             self.freq = freq\n",
    "#             self.right = None\n",
    "#             self.left = None\n",
    "#             self.leaf = True\n",
    "#             self.encode = ''\n",
    "#         else:\n",
    "#             self.key = key\n",
    "#             self.freq = right.freq + left.freq\n",
    "#             self.right = right\n",
    "#             self.left = left\n",
    "#             self.leaf = False\n",
    "#             right.add_encode('1')\n",
    "#             left.add_encode('0')\n",
    "#         return\n",
    "#     def add_encode(self, addition):\n",
    "#         if self.leaf == False:\n",
    "#             if self.left == None:\n",
    "#                 self.right.add_encode(addition)\n",
    "#             elif self.right == None:\n",
    "#                 self.left.add_encode(addition)\n",
    "#             else:\n",
    "#                 self.right.add_encode(addition)\n",
    "#                 self.left.add_encode(addition)\n",
    "#             if self.right == None and self.left == None:\n",
    "#                 print('Error: Recursively iterating on a leaf')\n",
    "#         else:\n",
    "#             self.encode = addition + self.encode\n",
    "#         return\n",
    "\n",
    "# def convert_freq_dict_to_encodings(freq):\n",
    "#     original_freq = freq.copy() # Just in Case I want to check something later\n",
    "    \n",
    "#     leaf_list = []\n",
    "#     for centroid, frequency in freq.items():\n",
    "#         leaf_list.append(HuffmanNode(key = centroid,\n",
    "#                                      freq = frequency,\n",
    "#                                      leaf = True))\n",
    "#     tree = []\n",
    "#     tree.extend(leaf_list)\n",
    "    \n",
    "#     MaxIter = 500\n",
    "#     iter = 0\n",
    "#     not_root = True\n",
    "    \n",
    "#     # Forming Huffman Tree and Setting Encoding\n",
    "#     while not_root and iter < MaxIter:\n",
    "#         least_freq_item = tree.pop(-1)\n",
    "#         second_least_freq_item = tree.pop(-1)\n",
    "#         tree.append(HuffmanNode(key = 'Branch ' + str(iter),\n",
    "#                                 right = second_least_freq_item,\n",
    "#                                 left = least_freq_item))\n",
    "#         iter+=1\n",
    "#         not_root = len(tree) > 1\n",
    "#         if not_root:\n",
    "#             if tree[-1].freq > tree[-2].freq:\n",
    "#                 tree = sorted(tree, key=lambda node: node.freq, reverse = True)\n",
    "#     encodings = {}\n",
    "#     for leaf in leaf_list:\n",
    "#         encodings[leaf.key] = leaf.encode\n",
    "#     return encodings\n",
    "\n",
    "\n",
    "# def _huffman_coding_per_layer(weight, centers):\n",
    "#     \"\"\"\n",
    "#     Huffman coding for each layer\n",
    "#     :param weight: weight parameter of the current layer.\n",
    "#     :param centers: KMeans centroids in the quantization codebook of the current weight layer.\n",
    "#     :return: \n",
    "#             'encodings': Encoding map mapping each weight parameter to its Huffman coding.\n",
    "#             'frequency': Frequency map mapping each weight parameter to the total number of its appearance.\n",
    "#             'encodings' should be in this format:\n",
    "#             {\"0.24315\": '0', \"-0.2145\": \"100\", \"1.1234e-5\": \"101\", ...\n",
    "#             }\n",
    "#             'frequency' should be in this format:\n",
    "#             {\"0.25235\": 100, \"-0.2145\": 42, \"1.1234e-5\": 36, ...\n",
    "#             }\n",
    "#             'encodings' and 'frequency' does not need to be ordered in any way.\n",
    "#     \"\"\"\n",
    "#     \"\"\"\n",
    "#     Generate Huffman Coding and Frequency Map according to incoming weights and centers (KMeans centroids).\n",
    "#     --------------Your Code---------------------\n",
    "#     \"\"\"\n",
    "#     non_zero_weights = list(map(str, weight[np.nonzero(weight)]))# creates string array of non-zero weight values\n",
    "#     ordered = Counter(non_zero_weights)\n",
    "#     # creates dictionary of centroids in decending order of frequency\n",
    "#     frequency = {}\n",
    "#     for item in ordered.most_common(len(ordered)):\n",
    "#         key = item[0]\n",
    "#         value = item[1]\n",
    "#         frequency[key] = value\n",
    "#     encodings = convert_freq_dict_to_encodings(frequency) # converts freq dict to centroid encodings\n",
    "#     return encodings, frequency"
   ]
  },
  {
   "cell_type": "code",
   "execution_count": null,
   "metadata": {},
   "outputs": [],
   "source": [
    "# weight_matrix = np.array([1,0,1,0,1,2,3,4,5,6,6,0,1,1,1]).reshape(-1,1)\n",
    "# kmean = sklearn.cluster.KMeans(n_clusters = 7, \n",
    "#                                init='k-means++', \n",
    "#                                 n_init=20, \n",
    "#                                max_iter=300)\n",
    "# labels = kmean.fit_predict(weight_matrix)\n",
    "# print(labels)\n",
    "# print(kmean.cluster_centers_)"
   ]
  },
  {
   "cell_type": "code",
   "execution_count": null,
   "metadata": {},
   "outputs": [],
   "source": [
    "# encodings,frequency = _huffman_coding_per_layer(weight_matrix, kmean.cluster_centers_)"
   ]
  },
  {
   "cell_type": "code",
   "execution_count": null,
   "metadata": {},
   "outputs": [],
   "source": [
    "# print(encodings)"
   ]
  },
  {
   "cell_type": "code",
   "execution_count": null,
   "metadata": {},
   "outputs": [],
   "source": [
    "# print(frequency)"
   ]
  }
 ],
 "metadata": {
  "kernelspec": {
   "display_name": "Python 3",
   "language": "python",
   "name": "python3"
  },
  "language_info": {
   "codemirror_mode": {
    "name": "ipython",
    "version": 3
   },
   "file_extension": ".py",
   "mimetype": "text/x-python",
   "name": "python",
   "nbconvert_exporter": "python",
   "pygments_lexer": "ipython3",
   "version": "3.7.4"
  },
  "pycharm": {
   "stem_cell": {
    "cell_type": "raw",
    "metadata": {
     "collapsed": false
    },
    "source": []
   }
  }
 },
 "nbformat": 4,
 "nbformat_minor": 4
}
